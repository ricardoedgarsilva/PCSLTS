{
 "cells": [
  {
   "cell_type": "code",
   "execution_count": 1,
   "metadata": {},
   "outputs": [],
   "source": [
    "import os\n",
    "import ltspice\n",
    "import matplotlib.pyplot as plt\n",
    "import numpy as np\n",
    "from scipy.interpolate import interp1d\n",
    "import pandas as pd"
   ]
  },
  {
   "cell_type": "code",
   "execution_count": 2,
   "metadata": {},
   "outputs": [
    {
     "name": "stdout",
     "output_type": "stream",
     "text": [
      "Netlist saved in C:\\Users\\ricar\\Google Drive\\INESC MN\\Software\\PCSLTS\\results\\2024-04-16_15.06.41\\circuit.cir\n",
      " ____    ____  ____   _      _____  ____  \n",
      "|  _ \\  / ___|/ ___| | |    |_   _|/ ___| \n",
      "| |_) || |    \\___ \\ | |      | |  \\___ \\ \n",
      "|  __/ | |___  ___) || |___   | |   ___) |\n",
      "|_|     \\____||____/ |_____|  |_|  |____/ \n",
      "                                          \n",
      " Python Crossbar Simulation with LTSpice\n",
      " \n",
      " ---------- \n",
      " \n",
      " Author: Ricardo E. Silva\n",
      " Research Group: INESC MN\n",
      " Licence: MIT\n",
      " Version: 0.1\n",
      " \n",
      " ---------- \n",
      " \n",
      "\n",
      "\n",
      " Configuration: \n",
      "\n",
      "\n",
      "---- simulation ----\n",
      "save: C:\\Users\\ricar\\Google Drive\\INESC MN\\Software\\PCSLTS\\results\n",
      "dataset: wqpt\n",
      "geometry: [[11, 14], [14, 10]]\n",
      "test_size: 0.2\n",
      "timestep: 1e-09\n",
      "freq: 1000000000.0\n",
      "precision: 10\n",
      "vin_scale: 1\n",
      "vout_scale: 1000.0\n",
      "epochs: 50\n",
      "learning_rate: 0.2\n",
      "savedir: C:\\Users\\ricar\\Google Drive\\INESC MN\\Software\\PCSLTS\\results\\2024-04-16_15.06.41\n",
      "time: 6.497000000000001e-06\n",
      "\n",
      "---- opamp ----\n",
      "power: 1\n",
      "noninverting: 0\n",
      "\n",
      "---- resistor ----\n",
      "A: 1000.0\n",
      "B: 100.0\n",
      "C: 100.0\n",
      "\n",
      "---- memristor ----\n",
      "model: 0\n",
      "\n",
      "---- data_shape ----\n",
      "x_train: (5197, 11)\n",
      "y_train: (5197, 10)\n",
      "x_test: (1300, 11)\n",
      "y_test: (1300, 10)\n",
      "\n",
      " ---------- \n",
      " \n",
      "\n",
      "\n",
      "supposed tlen: 6497\n",
      "data shape: (6497, 14)\n"
     ]
    }
   ],
   "source": [
    "# Main Code\n",
    "from modules.netlist import Netlist\n",
    "from modules.common import *\n",
    "from config import *\n",
    "\n",
    "config['simulation']['savedir'] = create_save_directory(\n",
    "    config['simulation']['save'], \n",
    "    folder_name\n",
    ")\n",
    "\n",
    "# Create Netlist object\n",
    "netlist = Netlist()\n",
    "\n",
    "# Import data and create inputs\n",
    "x_train, y_train, x_test, y_test = import_data(config)\n",
    "create_inputs(x_train, x_test, config)\n",
    "\n",
    "# Calculate simulation time and initialize weights\n",
    "config[\"simulation\"][\"time\"] = calculate_time(len(x_train), len(x_test), config)\n",
    "config[\"simulation\"][\"weights\"] = initialize_weights(config)\n",
    "\n",
    "# Create netlist and save it\n",
    "netlist.mk_circuit(config)\n",
    "netlist.save_net(config)\n",
    "\n",
    "# Print information\n",
    "print_information(config)\n",
    "\n",
    "# Run LTspice\n",
    "run_ltspice(config)\n",
    "\n",
    "# Import results\n",
    "data = import_results(config)\n",
    "\n",
    "# Print shape results\n",
    "print(f\"supposed tlen: {len(y_train) + len(y_test)}\")\n",
    "print(f\"data shape: {np.shape(data[0])}\")"
   ]
  },
  {
   "cell_type": "code",
   "execution_count": 4,
   "metadata": {},
   "outputs": [
    {
     "ename": "ValueError",
     "evalue": "operands could not be broadcast together with shapes (6497,14) (6497,10) ",
     "output_type": "error",
     "traceback": [
      "\u001b[1;31m---------------------------------------------------------------------------\u001b[0m",
      "\u001b[1;31mValueError\u001b[0m                                Traceback (most recent call last)",
      "Cell \u001b[1;32mIn[4], line 25\u001b[0m\n\u001b[0;32m     21\u001b[0m         weights[i] \u001b[38;5;241m+\u001b[39m\u001b[38;5;241m=\u001b[39m output[i]\u001b[38;5;241m.\u001b[39mT\u001b[38;5;241m.\u001b[39mdot(layer_deltas[i]) \u001b[38;5;241m*\u001b[39m learning_rate\n\u001b[0;32m     23\u001b[0m     \u001b[38;5;28;01mreturn\u001b[39;00m weights\n\u001b[1;32m---> 25\u001b[0m new_weights \u001b[38;5;241m=\u001b[39m \u001b[43mupdate_weights\u001b[49m\u001b[43m(\u001b[49m\n\u001b[0;32m     26\u001b[0m \u001b[43m    \u001b[49m\u001b[43mdata\u001b[49m\u001b[43m,\u001b[49m\u001b[43m \u001b[49m\n\u001b[0;32m     27\u001b[0m \u001b[43m    \u001b[49m\u001b[43mnp\u001b[49m\u001b[38;5;241;43m.\u001b[39;49m\u001b[43mconcatenate\u001b[49m\u001b[43m(\u001b[49m\u001b[43m(\u001b[49m\u001b[43my_test\u001b[49m\u001b[43m,\u001b[49m\u001b[43m \u001b[49m\u001b[43my_train\u001b[49m\u001b[43m)\u001b[49m\u001b[43m,\u001b[49m\u001b[43m \u001b[49m\u001b[43maxis\u001b[49m\u001b[38;5;241;43m=\u001b[39;49m\u001b[38;5;241;43m0\u001b[39;49m\u001b[43m)\u001b[49m\u001b[43m,\u001b[49m\u001b[43m \u001b[49m\n\u001b[0;32m     28\u001b[0m \u001b[43m    \u001b[49m\u001b[43mconfig\u001b[49m\u001b[43m[\u001b[49m\u001b[38;5;124;43m\"\u001b[39;49m\u001b[38;5;124;43msimulation\u001b[39;49m\u001b[38;5;124;43m\"\u001b[39;49m\u001b[43m]\u001b[49m\u001b[43m[\u001b[49m\u001b[38;5;124;43m\"\u001b[39;49m\u001b[38;5;124;43mweights\u001b[39;49m\u001b[38;5;124;43m\"\u001b[39;49m\u001b[43m]\u001b[49m\u001b[43m,\u001b[49m\u001b[43m \u001b[49m\n\u001b[0;32m     29\u001b[0m \u001b[43m    \u001b[49m\u001b[38;5;241;43m0.01\u001b[39;49m\n\u001b[0;32m     30\u001b[0m \u001b[43m)\u001b[49m\n",
      "Cell \u001b[1;32mIn[4], line 10\u001b[0m, in \u001b[0;36mupdate_weights\u001b[1;34m(output, true_output, weights, learning_rate)\u001b[0m\n\u001b[0;32m      8\u001b[0m \u001b[38;5;28;01mfor\u001b[39;00m i \u001b[38;5;129;01min\u001b[39;00m \u001b[38;5;28mrange\u001b[39m(\u001b[38;5;28mlen\u001b[39m(weights) \u001b[38;5;241m-\u001b[39m \u001b[38;5;241m1\u001b[39m, \u001b[38;5;241m0\u001b[39m, \u001b[38;5;241m-\u001b[39m\u001b[38;5;241m1\u001b[39m):\n\u001b[0;32m      9\u001b[0m     error \u001b[38;5;241m=\u001b[39m layer_deltas[\u001b[38;5;241m0\u001b[39m]\u001b[38;5;241m.\u001b[39mdot(weights[i]\u001b[38;5;241m.\u001b[39mT)\n\u001b[1;32m---> 10\u001b[0m     delta \u001b[38;5;241m=\u001b[39m \u001b[43merror\u001b[49m\u001b[43m \u001b[49m\u001b[38;5;241;43m*\u001b[39;49m\u001b[43m \u001b[49m\u001b[43msigmoid_derivative\u001b[49m\u001b[43m(\u001b[49m\u001b[43moutput\u001b[49m\u001b[43m[\u001b[49m\u001b[43mi\u001b[49m\u001b[43m]\u001b[49m\u001b[43m)\u001b[49m\n\u001b[0;32m     11\u001b[0m     layer_errors\u001b[38;5;241m.\u001b[39minsert(\u001b[38;5;241m0\u001b[39m, error)\n\u001b[0;32m     12\u001b[0m     layer_deltas\u001b[38;5;241m.\u001b[39minsert(\u001b[38;5;241m0\u001b[39m, delta)\n",
      "\u001b[1;31mValueError\u001b[0m: operands could not be broadcast together with shapes (6497,14) (6497,10) "
     ]
    }
   ],
   "source": [
    "def update_weights(output, true_output, weights, learning_rate):\n",
    "\n",
    "    def sigmoid_derivative(x): return x * (1 - x)\n",
    "   \n",
    "    layer_errors = [true_output - output[-1]]\n",
    "    layer_deltas = [layer_errors[-1] * sigmoid_derivative(output[-1])]\n",
    "\n",
    "    for i in range(len(weights) - 1, 0, -1):\n",
    "        error = layer_deltas[0].dot(weights[i].T)\n",
    "        delta = error * sigmoid_derivative(output[i])\n",
    "        layer_errors.insert(0, error)\n",
    "        layer_deltas.insert(0, delta)\n",
    "\n",
    "\n",
    "    # Update weights\n",
    "    for i in range(len(weights)):\n",
    "        print(f'output[{i}]: {np.shape(output[i])}')\n",
    "        print(f'layer_deltas[{i}]: {np.shape(layer_deltas[i])}')\n",
    "        print(f'weights[{i}]: {np.shape(weights[i])}')\n",
    "        \n",
    "        weights[i] += output[i].T.dot(layer_deltas[i]) * learning_rate\n",
    "\n",
    "    return weights\n",
    "\n",
    "new_weights = update_weights(\n",
    "    data, \n",
    "    np.concatenate((y_test, y_train), axis=0), \n",
    "    config[\"simulation\"][\"weights\"], \n",
    "    0.01\n",
    ")"
   ]
  },
  {
   "cell_type": "code",
   "execution_count": 5,
   "metadata": {},
   "outputs": [
    {
     "name": "stdout",
     "output_type": "stream",
     "text": [
      "(6497, 10)\n",
      "(6497, 10)\n",
      "(6497, 11)\n"
     ]
    }
   ],
   "source": [
    "geometry = config[\"simulation\"][\"geometry\"]\n",
    "weights = [np.ones((rows, cols)) for rows, cols in geometry]\n",
    "\n",
    "def sigmoid_derivative(x): return x * (1 - x)\n",
    "\n",
    "layer_errors = [np.concatenate((y_test, y_train), axis=0) - data[-1]]\n",
    "layer_deltas = [layer_errors[-1] * sigmoid_derivative(data[-1])]\n",
    "\n",
    "print(np.shape(layer_errors[-1]))\n",
    "print(np.shape(layer_deltas[-1]))\n",
    "\n",
    "error = np.dot(layer_deltas[-1], weights[-1].T)\n",
    "print(np.shape(error))"
   ]
  },
  {
   "cell_type": "code",
   "execution_count": 6,
   "metadata": {},
   "outputs": [
    {
     "name": "stdout",
     "output_type": "stream",
     "text": [
      "(11, 10)\n"
     ]
    }
   ],
   "source": [
    "print(np.shape(weights[-1]))"
   ]
  },
  {
   "cell_type": "code",
   "execution_count": null,
   "metadata": {},
   "outputs": [],
   "source": []
  }
 ],
 "metadata": {
  "kernelspec": {
   "display_name": "base",
   "language": "python",
   "name": "python3"
  },
  "language_info": {
   "codemirror_mode": {
    "name": "ipython",
    "version": 3
   },
   "file_extension": ".py",
   "mimetype": "text/x-python",
   "name": "python",
   "nbconvert_exporter": "python",
   "pygments_lexer": "ipython3",
   "version": "3.12.2"
  }
 },
 "nbformat": 4,
 "nbformat_minor": 2
}
