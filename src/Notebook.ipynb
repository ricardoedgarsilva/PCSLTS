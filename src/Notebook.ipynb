{
 "cells": [
  {
   "cell_type": "markdown",
   "metadata": {},
   "source": [
    "# PyNeuroMemSim Notebook"
   ]
  },
  {
   "cell_type": "markdown",
   "metadata": {},
   "source": [
    "The use of this notebook is optional, but it provides a convenient way to iterate faster. \n",
    "PyNeuroMemSim can also be run from main.py"
   ]
  },
  {
   "cell_type": "markdown",
   "metadata": {},
   "source": [
    "## Imports"
   ]
  },
  {
   "cell_type": "code",
   "execution_count": 1,
   "metadata": {},
   "outputs": [],
   "source": [
    "from modules.dependencies import *\n",
    "from modules.data_handling import *\n",
    "from modules.file_utils import *\n",
    "from modules.info import *\n",
    "from modules.netlist import *\n",
    "from modules.plotting import *\n",
    "from modules.simulation_utils import *\n",
    "from config import *"
   ]
  },
  {
   "cell_type": "code",
   "execution_count": 2,
   "metadata": {},
   "outputs": [
    {
     "name": "stdout",
     "output_type": "stream",
     "text": [
      "Data imported successfully!                    Creating input files...\n",
      "Input files created successfully!\n",
      "Mean Squared Error calculated successfully!                             "
     ]
    }
   ],
   "source": [
    "# Set up logging\n",
    "config['simulation']['savedir'] = 'C:\\\\Users\\\\ricar\\\\Downloads\\\\results\\\\test_notebook'\n",
    "\n",
    "# Create netlist object\n",
    "netlist = Netlist()\n",
    "\n",
    "# Import data\n",
    "x_train, y_train, x_test, y_test = import_data(config)\n",
    "create_inputs(x_train, x_test, config)\n",
    "\n",
    "# Calculate simulation time and initialize weights\n",
    "\n",
    "config[\"simulation\"][\"time\"] = calculate_time(len(x_train), len(x_test), config)\n",
    "config[\"simulation\"][\"weights\"] = initialize_weights(config)\n",
    "\n",
    "create_mse_hist(config)\n",
    "\n",
    "netlist.mk_circuit(config)\n",
    "netlist.save_net(config)\n",
    "\n",
    "run_ltspice(config)\n",
    "\n",
    "data = import_results(config)\n",
    "\n",
    "val_data, trn_data = split_data(data, len(x_test))\n",
    "\n",
    "mse_trn = calculate_mse(y_train, trn_data[-1])\n",
    "mse_val = calculate_mse(y_test, val_data[-1])\n",
    "\n",
    "updated_weights = backpropagate(\n",
    "    config,\n",
    "    trn_data,\n",
    "    y_train\n",
    ")"
   ]
  }
 ],
 "metadata": {
  "kernelspec": {
   "display_name": "base",
   "language": "python",
   "name": "python3"
  },
  "language_info": {
   "codemirror_mode": {
    "name": "ipython",
    "version": 3
   },
   "file_extension": ".py",
   "mimetype": "text/x-python",
   "name": "python",
   "nbconvert_exporter": "python",
   "pygments_lexer": "ipython3",
   "version": "3.12.2"
  }
 },
 "nbformat": 4,
 "nbformat_minor": 2
}
