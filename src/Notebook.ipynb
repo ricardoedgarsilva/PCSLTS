{
 "cells": [
  {
   "cell_type": "markdown",
   "metadata": {},
   "source": [
    "# PyNeuroMemSim Notebook"
   ]
  },
  {
   "cell_type": "markdown",
   "metadata": {},
   "source": [
    "The use of this notebook is optional, but it provides a convenient way to iterate faster. \n",
    "PyNeuroMemSim can also be run from main.py"
   ]
  },
  {
   "cell_type": "markdown",
   "metadata": {},
   "source": [
    "## Imports"
   ]
  },
  {
   "cell_type": "code",
   "execution_count": 1,
   "metadata": {},
   "outputs": [],
   "source": [
    "from modules.dependencies import *\n",
    "from modules.data_handling import *\n",
    "from modules.file_utils import *\n",
    "from modules.info import *\n",
    "from modules.netlist import *\n",
    "from modules.plotting import *\n",
    "from modules.simulation_utils import *\n",
    "from config import *"
   ]
  },
  {
   "cell_type": "code",
   "execution_count": 2,
   "metadata": {},
   "outputs": [
    {
     "name": "stdout",
     "output_type": "stream",
     "text": [
      "Data imported successfully!                    Creating input files...\n",
      "Input files created successfully!\n",
      "Mean Squared Error calculated successfully!                             "
     ]
    }
   ],
   "source": [
    "# Set up logging\n",
    "config['simulation']['savedir'] = 'C:\\\\Users\\\\ricar\\\\Downloads\\\\results\\\\test_notebook'\n",
    "\n",
    "# Create netlist object\n",
    "netlist = Netlist()\n",
    "\n",
    "# Import data\n",
    "x_train, y_train, x_test, y_test = import_data(config)\n",
    "create_inputs(x_train, x_test, config)\n",
    "\n",
    "# Calculate simulation time and initialize weights\n",
    "\n",
    "config[\"simulation\"][\"time\"] = calculate_time(len(x_train), len(x_test), config)\n",
    "config[\"simulation\"][\"weights\"] = initialize_weights(config)\n",
    "\n",
    "create_mse_hist(config)\n",
    "\n",
    "netlist.mk_circuit(config)\n",
    "netlist.save_net(config)\n",
    "\n",
    "run_ltspice(config)\n",
    "\n",
    "data = import_results(config)\n",
    "\n",
    "val_data, trn_data = split_data(data, len(x_test))\n",
    "\n",
    "mse_trn = calculate_mse(y_train, trn_data[-1])\n",
    "mse_val = calculate_mse(y_test, val_data[-1])\n",
    "\n",
    "updated_weights = backpropagate(\n",
    "    config,\n",
    "    trn_data,\n",
    "    y_train\n",
    ")"
   ]
  },
  {
   "cell_type": "code",
   "execution_count": 3,
   "metadata": {},
   "outputs": [
    {
     "name": "stdout",
     "output_type": "stream",
     "text": [
      "[array([[0.24967712, 0.65839719, 0.85717919, 0.57383675, 0.92027464,\n",
      "        0.34847405, 0.65748602, 0.03735103, 0.20871815],\n",
      "       [0.04128044, 0.13976083, 0.71303507, 0.64463099, 0.10349019,\n",
      "        0.61614239, 0.31183388, 0.34419228, 0.12708671],\n",
      "       [0.30977571, 0.79289652, 0.67099435, 0.27110541, 0.05984419,\n",
      "        0.07257931, 0.07892314, 0.79917807, 0.36973655],\n",
      "       [0.02387103, 0.83842465, 0.72170095, 0.66669002, 0.82360105,\n",
      "        0.43829603, 0.15392529, 0.70952709, 0.23746342],\n",
      "       [0.62130739, 0.02215592, 0.82953406, 0.84296831, 0.52413638,\n",
      "        0.99244791, 0.39839428, 0.83204993, 0.52426224],\n",
      "       [0.14692991, 0.31019606, 0.78737785, 0.38004698, 0.03045579,\n",
      "        0.34382449, 0.378888  , 0.76899898, 0.41435048],\n",
      "       [0.19492568, 0.47238343, 0.57673016, 0.49414594, 0.56402695,\n",
      "        0.5246975 , 0.76088318, 0.98453469, 0.69005124],\n",
      "       [0.10452855, 0.8781452 , 0.65285583, 0.92728802, 0.45993552,\n",
      "        0.39778971, 0.1725366 , 0.49434853, 0.32775554],\n",
      "       [0.95603318, 0.84051055, 0.37143971, 0.37646343, 0.43436164,\n",
      "        0.92785711, 0.13609746, 0.7629542 , 0.71221994],\n",
      "       [0.6597181 , 0.70909478, 0.33295633, 0.56866111, 0.91551967,\n",
      "        0.64742795, 0.42801343, 0.50932016, 0.70046967],\n",
      "       [0.31493297, 0.89508691, 0.85500334, 0.70639039, 0.88411836,\n",
      "        0.45371048, 0.31088155, 0.54530974, 0.76535551]]), array([[0.69029346, 0.12360686, 0.13672515, 0.2293514 , 0.22321277,\n",
      "        0.46748972],\n",
      "       [0.30731582, 0.38246721, 0.29708509, 0.79162665, 0.0243425 ,\n",
      "        0.00680812],\n",
      "       [0.87244624, 0.10969973, 0.15218857, 0.65542306, 0.44315985,\n",
      "        0.9255535 ],\n",
      "       [0.84036916, 0.23003451, 0.48781688, 0.49688921, 0.10479657,\n",
      "        0.77718306],\n",
      "       [0.06601412, 0.83961863, 0.78561227, 0.38627949, 0.81740764,\n",
      "        0.8357517 ],\n",
      "       [0.66386918, 0.74160572, 0.21115497, 0.19372787, 0.85696884,\n",
      "        0.36207221],\n",
      "       [0.45297789, 0.70836182, 0.6253781 , 0.4332086 , 0.49694734,\n",
      "        0.29255048],\n",
      "       [0.16403018, 0.17423537, 0.80621851, 0.56124215, 0.46453878,\n",
      "        0.10393231],\n",
      "       [0.11283016, 0.3119844 , 0.75040498, 0.75525005, 0.60581411,\n",
      "        0.09086552]]), array([[0.13561604, 0.93348822, 0.13467724, 0.52421895, 0.68069123,\n",
      "        0.2180244 , 0.38164374, 0.48320579, 0.38648404, 0.19647322],\n",
      "       [0.88124588, 0.73919511, 0.01021027, 0.94531339, 0.92845367,\n",
      "        0.11328763, 0.69922014, 0.18204895, 0.74487074, 0.62019747],\n",
      "       [0.41229844, 0.72282907, 0.33352433, 0.93595927, 0.64109654,\n",
      "        0.53818678, 0.40689016, 0.543629  , 0.0997576 , 0.08083214],\n",
      "       [0.04571784, 0.25111628, 0.08663189, 0.1835598 , 0.41767428,\n",
      "        0.76708328, 0.05221339, 0.30910724, 0.69845294, 0.6500656 ],\n",
      "       [0.80516534, 0.12080761, 0.85827566, 0.42288258, 0.38216023,\n",
      "        0.08058632, 0.34092416, 0.24687651, 0.82962378, 0.78978061],\n",
      "       [0.44224819, 0.44751702, 0.25174564, 0.39811728, 0.84847598,\n",
      "        0.02489231, 0.95747733, 0.90426424, 0.00736445, 0.13806519]])]\n"
     ]
    }
   ],
   "source": [
    "print(updated_weights)"
   ]
  }
 ],
 "metadata": {
  "kernelspec": {
   "display_name": "base",
   "language": "python",
   "name": "python3"
  },
  "language_info": {
   "codemirror_mode": {
    "name": "ipython",
    "version": 3
   },
   "file_extension": ".py",
   "mimetype": "text/x-python",
   "name": "python",
   "nbconvert_exporter": "python",
   "pygments_lexer": "ipython3",
   "version": "3.12.2"
  }
 },
 "nbformat": 4,
 "nbformat_minor": 2
}
